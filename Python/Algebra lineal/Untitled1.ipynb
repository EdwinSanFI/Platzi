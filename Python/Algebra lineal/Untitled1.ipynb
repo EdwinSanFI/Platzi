{
 "cells": [
  {
   "cell_type": "code",
   "execution_count": 1,
   "metadata": {},
   "outputs": [],
   "source": [
    "import numpy as np"
   ]
  },
  {
   "cell_type": "code",
   "execution_count": 25,
   "metadata": {},
   "outputs": [
    {
     "name": "stdout",
     "output_type": "stream",
     "text": [
      "(3, 3)\n",
      "(3, 1)\n"
     ]
    }
   ],
   "source": [
    "# matriz_A = np.array([[1,2,-3], [2,5,-8], [-3,-6,9]], np.int32)\n",
    "# matriz_B = np.array([[1], [4] ,[-3]], np.int32)\n",
    "# print(matriz_A.shape)\n",
    "# print(matriz_B.shape)"
   ]
  },
  {
   "cell_type": "code",
   "execution_count": 27,
   "metadata": {},
   "outputs": [],
   "source": [
    "# print(np.linalg.det(matriz_A))\n",
    "# if (np.linalg.det(matriz_A)) != 0.0:\n",
    "#     print(\"Matriz Inversa\")\n",
    "#     inv_A = np.linalg.inv(matriz_A)\n",
    "#     print(inv_A)\n",
    "#     print(\"Multiplicacion\")\n",
    "#     print(np.dot(inv_A , matriz_B) )\n",
    "#     print(inv_A.dtype)\n",
    "# else:\n",
    "#         print(\"la matriz es singular\")"
   ]
  },
  {
   "cell_type": "code",
   "execution_count": 45,
   "metadata": {},
   "outputs": [
    {
     "name": "stdout",
     "output_type": "stream",
     "text": [
      "[[ 1  2 -3]\n",
      " [ 2  5 -8]\n",
      " [-3 -6  9]]\n",
      "[ 1  4 -3]\n"
     ]
    }
   ],
   "source": [
    "matriz_A = np.array([[1, 2, -3], [2, 5, -8], [-3, -6, 9]])\n",
    "print(matriz_A)\n",
    "matriz_B = np.array([1, 4, -3])\n",
    "print(matriz_B)"
   ]
  },
  {
   "cell_type": "code",
   "execution_count": 46,
   "metadata": {},
   "outputs": [
    {
     "name": "stdout",
     "output_type": "stream",
     "text": [
      "[-2.96059473e-16 -4.00000000e+00 -3.00000000e+00]\n"
     ]
    }
   ],
   "source": [
    "x = np.linalg.solve(matriz_A, matriz_B)\n",
    "print(x)"
   ]
  },
  {
   "cell_type": "code",
   "execution_count": 47,
   "metadata": {
    "scrolled": true
   },
   "outputs": [
    {
     "data": {
      "text/plain": [
       "array([False,  True,  True])"
      ]
     },
     "execution_count": 47,
     "metadata": {},
     "output_type": "execute_result"
    }
   ],
   "source": [
    "matriz_A @ x == matriz_B "
   ]
  },
  {
   "cell_type": "code",
   "execution_count": null,
   "metadata": {},
   "outputs": [],
   "source": []
  }
 ],
 "metadata": {
  "kernelspec": {
   "display_name": "Python 3",
   "language": "python",
   "name": "python3"
  },
  "language_info": {
   "codemirror_mode": {
    "name": "ipython",
    "version": 3
   },
   "file_extension": ".py",
   "mimetype": "text/x-python",
   "name": "python",
   "nbconvert_exporter": "python",
   "pygments_lexer": "ipython3",
   "version": "3.8.5"
  }
 },
 "nbformat": 4,
 "nbformat_minor": 4
}
